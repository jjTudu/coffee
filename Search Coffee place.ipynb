{
 "cells": [
  {
   "cell_type": "code",
   "execution_count": 44,
   "metadata": {},
   "outputs": [
    {
     "name": "stdout",
     "output_type": "stream",
     "text": [
      "Folium installed and imported!\n"
     ]
    }
   ],
   "source": [
    "import numpy as np  # useful for many scientific computing in Python\n",
    "import pandas as pd # primary data structure library\n",
    "import matplotlib as mpl\n",
    "import matplotlib.pyplot as plt\n",
    "import requests # library to handle requests\n",
    "import random # library for random number generation\n",
    "\n",
    "# !conda install -c conda-forge geopy --yes \n",
    "from geopy.geocoders import Nominatim # module to convert an address into latitude and longitude values\n",
    "\n",
    "# libraries for displaying images\n",
    "from IPython.display import Image \n",
    "from IPython.core.display import HTML \n",
    "    \n",
    "# tranforming json file into a pandas dataframe library\n",
    "from pandas.io.json import json_normalize\n",
    "\n",
    "# !conda install -c conda-forge folium=0.5.0 --yes\n",
    "import folium\n",
    "\n",
    "#! conda install -c conda-forge ipywidgets --yes\n",
    "import ipywidgets as widgets\n",
    "\n",
    "print('Folium installed and imported!')"
   ]
  },
  {
   "cell_type": "code",
   "execution_count": 46,
   "metadata": {},
   "outputs": [],
   "source": [
    "# @hidden_cell\n",
    "CLIENT_ID = '' # your Foursquare ID\n",
    "CLIENT_SECRET = '' # your Foursquare Secret\n",
    "VERSION = '20200501'\n",
    "LIMIT = 30\n",
    "# print('Your credentails:')\n",
    "# print('CLIENT_ID: ' + CLIENT_ID)\n",
    "# print('CLIENT_SECRET:' + CLIENT_SECRET)\n",
    "search_query = 'Coffee'\n",
    "radius = 500\n",
    "url = 'https://api.foursquare.com/v2/venues/search?client_id={}&client_secret={}&ll={},{}&v={}&query={}&radius={}&limit={}'.format(CLIENT_ID, CLIENT_SECRET, latitude, longitude, VERSION, search_query, radius, LIMIT)"
   ]
  },
  {
   "cell_type": "code",
   "execution_count": 47,
   "metadata": {},
   "outputs": [],
   "source": [
    "# Delhi latitude and longitude values\n",
    " \n",
    "# latitude=28.7041\n",
    "# longitude=77.1025\n",
    "\n",
    "# delhi_map=folium.Map(location=[latitude, longitude], zoom_start=10)\n",
    "# delhi_map\n",
    " "
   ]
  },
  {
   "cell_type": "code",
   "execution_count": 48,
   "metadata": {},
   "outputs": [],
   "source": [
    "delhi_district_file_path='./delhi_District.csv'\n",
    "delhi_district=pd.read_csv(delhi_district_file_path,sep=';')"
   ]
  },
  {
   "cell_type": "code",
   "execution_count": 49,
   "metadata": {},
   "outputs": [
    {
     "data": {
      "text/html": [
       "<div>\n",
       "<style scoped>\n",
       "    .dataframe tbody tr th:only-of-type {\n",
       "        vertical-align: middle;\n",
       "    }\n",
       "\n",
       "    .dataframe tbody tr th {\n",
       "        vertical-align: top;\n",
       "    }\n",
       "\n",
       "    .dataframe thead th {\n",
       "        text-align: right;\n",
       "    }\n",
       "</style>\n",
       "<table border=\"1\" class=\"dataframe\">\n",
       "  <thead>\n",
       "    <tr style=\"text-align: right;\">\n",
       "      <th></th>\n",
       "      <th>S.No.</th>\n",
       "      <th>State Code</th>\n",
       "      <th>State Name (In English)</th>\n",
       "      <th>District Code</th>\n",
       "      <th>District Version</th>\n",
       "      <th>District Name (In English)</th>\n",
       "      <th>District Name(In Local)</th>\n",
       "      <th>Census 2001 Code</th>\n",
       "      <th>Census 2011 Code</th>\n",
       "    </tr>\n",
       "  </thead>\n",
       "  <tbody>\n",
       "    <tr>\n",
       "      <td>0</td>\n",
       "      <td>1</td>\n",
       "      <td>7</td>\n",
       "      <td>DELHI</td>\n",
       "      <td>77</td>\n",
       "      <td>1</td>\n",
       "      <td>CENTRAL</td>\n",
       "      <td>CENTRAL</td>\n",
       "      <td>6.0</td>\n",
       "      <td>95</td>\n",
       "    </tr>\n",
       "    <tr>\n",
       "      <td>1</td>\n",
       "      <td>2</td>\n",
       "      <td>7</td>\n",
       "      <td>DELHI</td>\n",
       "      <td>78</td>\n",
       "      <td>2</td>\n",
       "      <td>EAST</td>\n",
       "      <td>EAST</td>\n",
       "      <td>4.0</td>\n",
       "      <td>93</td>\n",
       "    </tr>\n",
       "    <tr>\n",
       "      <td>2</td>\n",
       "      <td>3</td>\n",
       "      <td>7</td>\n",
       "      <td>DELHI</td>\n",
       "      <td>79</td>\n",
       "      <td>1</td>\n",
       "      <td>NEW DELHI</td>\n",
       "      <td>NEW DELHI</td>\n",
       "      <td>5.0</td>\n",
       "      <td>94</td>\n",
       "    </tr>\n",
       "  </tbody>\n",
       "</table>\n",
       "</div>"
      ],
      "text/plain": [
       "   S.No.  State Code State Name (In English)  District Code  District Version  \\\n",
       "0      1           7                   DELHI             77                 1   \n",
       "1      2           7                   DELHI             78                 2   \n",
       "2      3           7                   DELHI             79                 1   \n",
       "\n",
       "  District Name (In English) District Name(In Local)  Census 2001 Code  \\\n",
       "0                    CENTRAL                 CENTRAL               6.0   \n",
       "1                       EAST                    EAST               4.0   \n",
       "2                  NEW DELHI               NEW DELHI               5.0   \n",
       "\n",
       "   Census 2011 Code  \n",
       "0                95  \n",
       "1                93  \n",
       "2                94  "
      ]
     },
     "execution_count": 49,
     "metadata": {},
     "output_type": "execute_result"
    }
   ],
   "source": [
    "delhi_district.head(3)"
   ]
  },
  {
   "cell_type": "code",
   "execution_count": 50,
   "metadata": {},
   "outputs": [],
   "source": [
    "delhi_district=delhi_district[['District Code','District Name (In English)']]\n",
    " "
   ]
  },
  {
   "cell_type": "code",
   "execution_count": 51,
   "metadata": {},
   "outputs": [
    {
     "data": {
      "text/plain": [
       "Index(['Code', 'Name'], dtype='object')"
      ]
     },
     "execution_count": 51,
     "metadata": {},
     "output_type": "execute_result"
    }
   ],
   "source": [
    "delhi_district.rename(inplace=True, columns={'District Code':'Code','District Name (In English)':'Name' })\n",
    "delhi_district.is_copy=False\n",
    "delhi_district.columns"
   ]
  },
  {
   "cell_type": "code",
   "execution_count": 52,
   "metadata": {},
   "outputs": [
    {
     "data": {
      "application/vnd.jupyter.widget-view+json": {
       "model_id": "6faac2c2ed6846edaecb5fc2a9967bc1",
       "version_major": 2,
       "version_minor": 0
      },
      "text/plain": [
       "Dropdown(description='District:', options=('CENTRAL', 'EAST', 'NEW DELHI', 'NORTH', 'NORTH EAST', 'NORTH WEST'…"
      ]
     },
     "metadata": {},
     "output_type": "display_data"
    },
    {
     "data": {
      "application/vnd.jupyter.widget-view+json": {
       "model_id": "9f71b2c2ddd94724b816cc8e01704d97",
       "version_major": 2,
       "version_minor": 0
      },
      "text/plain": [
       "Label(value='CENTRAL')"
      ]
     },
     "metadata": {},
     "output_type": "display_data"
    }
   ],
   "source": [
    "from IPython.display import clear_output\n",
    "caption=widgets.Label(value='Not selected yet')\n",
    "ALL='ALL'\n",
    "def unique_sorted_values_ALL(array):\n",
    "    unique=array.unique().tolist()\n",
    "    unique.sort()\n",
    "    unique.insert(0,ALL)\n",
    "    return unique\n",
    "x='JAMES'\n",
    "def onchange(d):\n",
    "    #clear_output(wait=False)\n",
    "    #print ('%s' % d['new'] )\n",
    "    pass\n",
    "    #print('Selection changed event fired.')\n",
    "\n",
    "district=widgets.Dropdown(\n",
    "    options=delhi_district.Name,\n",
    "    description='District:'\n",
    ")\n",
    "widgets.link((district,'value'),(caption,'value')) \n",
    "district.observe(onchange)\n",
    "display(district, caption) "
   ]
  },
  {
   "cell_type": "code",
   "execution_count": 53,
   "metadata": {},
   "outputs": [
    {
     "data": {
      "text/plain": [
       "'CENTRAL, New Delhi, India'"
      ]
     },
     "execution_count": 53,
     "metadata": {},
     "output_type": "execute_result"
    }
   ],
   "source": [
    "vars(district);\n",
    "address = district.value+', New Delhi, India'\n",
    "address"
   ]
  },
  {
   "cell_type": "code",
   "execution_count": 54,
   "metadata": {},
   "outputs": [
    {
     "name": "stdout",
     "output_type": "stream",
     "text": [
      "28.6141793 77.2022662\n"
     ]
    }
   ],
   "source": [
    "geolocator = Nominatim(user_agent=\"foursquare_agent\")\n",
    "location = geolocator.geocode(address)\n",
    "latitude = location.latitude\n",
    "longitude = location.longitude\n",
    "print(latitude, longitude)"
   ]
  },
  {
   "cell_type": "code",
   "execution_count": 55,
   "metadata": {},
   "outputs": [
    {
     "data": {
      "text/plain": [
       "'https://api.foursquare.com/v2/venues/search?client_id=&client_secret=&ll=28.6141793,77.2022662&v=20200501&query=Coffee&radius=500&limit=30'"
      ]
     },
     "execution_count": 55,
     "metadata": {},
     "output_type": "execute_result"
    }
   ],
   "source": [
    "url"
   ]
  },
  {
   "cell_type": "code",
   "execution_count": null,
   "metadata": {},
   "outputs": [],
   "source": []
  }
 ],
 "metadata": {
  "kernelspec": {
   "display_name": "Python 3",
   "language": "python",
   "name": "python3"
  },
  "language_info": {
   "codemirror_mode": {
    "name": "ipython",
    "version": 3
   },
   "file_extension": ".py",
   "mimetype": "text/x-python",
   "name": "python",
   "nbconvert_exporter": "python",
   "pygments_lexer": "ipython3",
   "version": "3.7.4"
  }
 },
 "nbformat": 4,
 "nbformat_minor": 2
}
