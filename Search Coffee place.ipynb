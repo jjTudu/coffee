{
 "cells": [
  {
   "cell_type": "code",
   "execution_count": null,
   "metadata": {},
   "outputs": [],
   "source": [
    "import numpy as np  # useful for many scientific computing in Python\n",
    "import pandas as pd # primary data structure library\n",
    "import matplotlib as mpl\n",
    "import matplotlib.pyplot as plt\n",
    "import requests # library to handle requests\n",
    "import random # library for random number generation\n",
    "\n",
    "# !conda install -c conda-forge geopy --yes \n",
    "from geopy.geocoders import Nominatim # module to convert an address into latitude and longitude values\n",
    "\n",
    "# libraries for displaying images\n",
    "from IPython.display import Image \n",
    "from IPython.core.display import HTML \n",
    "    \n",
    "# tranforming json file into a pandas dataframe library\n",
    "from pandas.io.json import json_normalize\n",
    "\n",
    "# !conda install -c conda-forge folium=0.5.0 --yes\n",
    "import folium\n",
    "\n",
    "#! conda install -c conda-forge ipywidgets --yes\n",
    "import ipywidgets as widgets\n",
    "\n",
    "print('Folium installed and imported!')"
   ]
  },
  {
   "cell_type": "code",
   "execution_count": null,
   "metadata": {},
   "outputs": [],
   "source": [
    "# @hidden_cell\n",
    "CLIENT_ID = ' ' # your Foursquare ID\n",
    "CLIENT_SECRET = ' ' # your Foursquare Secret\n",
    "VERSION = '20200501'\n",
    "LIMIT = 100 # max only 50 result \n",
    "\n",
    "radius = 10000"
   ]
  },
  {
   "cell_type": "code",
   "execution_count": null,
   "metadata": {},
   "outputs": [],
   "source": [
    "delhi_district_file_path='./delhi_all.csv'\n",
    "delhi_district=pd.read_csv(delhi_district_file_path)\n",
    "\n",
    "delhi_population_path='./delhi9_population.csv'\n",
    "delhi_population=pd.read_csv(delhi_population_path)\n",
    "\n",
    "delhi_geo_path='./Delhi.geojson'\n",
    "import json\n",
    "#delhi_geo = json.loads(delhi_geo_path)\n",
    "with open(delhi_geo_path, 'r') as j:\n",
    "     delhi_geo = json.loads(j.read())\n",
    "        \n",
    "#delhi_geo=pd.read_csv(delhi_geo_path, error_bad_lines=False)"
   ]
  },
  {
   "cell_type": "code",
   "execution_count": null,
   "metadata": {},
   "outputs": [],
   "source": [
    " delhi_district.place_name.unique()\n",
    "# delhi_population.head(3)\n",
    "# delhi_geo.columns\n",
    "# print(delhi_geo)"
   ]
  },
  {
   "cell_type": "code",
   "execution_count": null,
   "metadata": {},
   "outputs": [],
   "source": [
    "from IPython.display import clear_output\n",
    "caption=widgets.Label(value='Not selected yet')\n",
    "ALL='ALL'\n",
    "def unique_sorted_values_ALL(array):\n",
    "    unique=array.unique().tolist()\n",
    "    unique.sort()\n",
    "    unique.insert(0,ALL)\n",
    "    return unique\n",
    "x='JAMES'\n",
    "def onchange(d):\n",
    "    #clear_output(wait=False)\n",
    "    #print ('%s' % d['new'] )\n",
    "    pass\n",
    "    #print('Selection changed event fired.')\n",
    "\n",
    "district=widgets.Dropdown(\n",
    "    options=delhi_district.place_name,\n",
    "    description='Places :'\n",
    ")\n",
    "widgets.link((district,'value'),(caption,'value')) \n",
    "district.observe(onchange)\n",
    "display(district, caption) "
   ]
  },
  {
   "cell_type": "code",
   "execution_count": null,
   "metadata": {},
   "outputs": [],
   "source": [
    "vars(district); \n",
    "state=district.value\n",
    "selectedRow=delhi_district.loc[delhi_district['place_name']==district.value, :]\n",
    "\n",
    "vars(selectedRow);"
   ]
  },
  {
   "cell_type": "code",
   "execution_count": null,
   "metadata": {},
   "outputs": [],
   "source": [
    "geolocator = Nominatim(user_agent=\"foursquare_agent\", format_string=\"%s, New delhi,IN\")\n",
    "# location = geolocator.geocode(district.value)\n",
    "# location = geolocator.reverse(\"28.509669, 77.376294\")\n",
    "# latitude = location.latitude\n",
    "# longitude = location.longitude\n",
    "\n",
    "latitude = selectedRow.loc[district.index,'latitude']\n",
    "longitude =selectedRow.loc[district.index,'longitude']\n",
    "location = geolocator.reverse(\"{}, {}\".format(latitude, longitude))\n",
    " \n",
    "# location.raw"
   ]
  },
  {
   "cell_type": "code",
   "execution_count": null,
   "metadata": {},
   "outputs": [],
   "source": [
    "# Delhi latitude and longitude values\n",
    "delhi_map=folium.Map(location=[latitude, longitude], zoom_start=10.47)\n",
    "\n",
    "# Add the color for the chloropleth:\n",
    "delhi_map.choropleth(\n",
    " geo_data=delhi_geo,\n",
    " name='choropleth',\n",
    " data=delhi_population,\n",
    " columns=['District', 'Percentage'],\n",
    " key_on='feature.properties.Dist_Name',\n",
    " fill_color='YlGn',\n",
    " fill_opacity=0.7,\n",
    " line_opacity=0.2,\n",
    " legend_name='Population (%)'\n",
    ")\n",
    "# folium.LayerControl().add_to(delhi_map)\n",
    "\n",
    "\n",
    "# I can add marker one by one on the map\n",
    "for i in range(0,len(delhi_district)):\n",
    "    folium.Marker([delhi_district.iloc[i]['latitude'], delhi_district.iloc[i]['longitude']], popup=folium.Popup(delhi_district.iloc[i]['place_name'], parse_html=True, max_width=100) ).add_to(delhi_map)\n",
    "\n",
    "delhi_map"
   ]
  },
  {
   "cell_type": "code",
   "execution_count": null,
   "metadata": {},
   "outputs": [],
   "source": [
    "search_query = 'market'\n",
    "url = 'https://api.foursquare.com/v2/search/recommendations?client_id={}&client_secret={}&ll={},{}&v={}&query={}&limit={}&state={}&radius={}&sortByDistance=True'.format(CLIENT_ID, CLIENT_SECRET, latitude, longitude, VERSION, search_query, LIMIT, state, radius)\n",
    "url\n",
    "# search/recommendations"
   ]
  },
  {
   "cell_type": "code",
   "execution_count": null,
   "metadata": {},
   "outputs": [],
   "source": [
    "results = requests.get(url).json()\n",
    "results"
   ]
  },
  {
   "cell_type": "code",
   "execution_count": null,
   "metadata": {},
   "outputs": [],
   "source": [
    "# assign relevant part of JSON to venues\n",
    "venues = results['response']['group']['results']\n",
    "\n",
    "# tranform venues into a dataframe\n",
    "dataframe = json_normalize(venues)\n",
    "dataframe=dataframe[dataframe['venue.location.distance']<=5000]\n",
    "\n",
    "dataframe.head()\n",
    "# dataframe['location.address']\n"
   ]
  },
  {
   "cell_type": "code",
   "execution_count": null,
   "metadata": {},
   "outputs": [],
   "source": []
  }
 ],
 "metadata": {
  "kernelspec": {
   "display_name": "Python 3",
   "language": "python",
   "name": "python3"
  },
  "language_info": {
   "codemirror_mode": {
    "name": "ipython",
    "version": 3
   },
   "file_extension": ".py",
   "mimetype": "text/x-python",
   "name": "python",
   "nbconvert_exporter": "python",
   "pygments_lexer": "ipython3",
   "version": "3.7.4"
  }
 },
 "nbformat": 4,
 "nbformat_minor": 2
}
